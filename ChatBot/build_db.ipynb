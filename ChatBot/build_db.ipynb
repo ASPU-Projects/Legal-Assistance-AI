{
 "cells": [
  {
   "cell_type": "code",
   "execution_count": 1,
   "id": "a6747252",
   "metadata": {},
   "outputs": [
    {
     "name": "stderr",
     "output_type": "stream",
     "text": [
      "c:\\Users\\Mohammad Kher\\Desktop\\University Projects\\Legal-Assistance-AI\\venv\\Lib\\site-packages\\sentence_transformers\\cross_encoder\\CrossEncoder.py:11: TqdmWarning: IProgress not found. Please update jupyter and ipywidgets. See https://ipywidgets.readthedocs.io/en/stable/user_install.html\n",
      "  from tqdm.autonotebook import tqdm, trange\n"
     ]
    }
   ],
   "source": [
    "import os\n",
    "from langchain_community.document_loaders import PyPDFLoader\n",
    "from langchain_text_splitters import RecursiveCharacterTextSplitter\n",
    "from langchain_community.vectorstores import Chroma\n",
    "from sentence_transformers import SentenceTransformer"
   ]
  },
  {
   "cell_type": "code",
   "execution_count": 2,
   "id": "63c9ec7a",
   "metadata": {},
   "outputs": [],
   "source": [
    "DATA_DIR = \"data\"       \n",
    "DB_DIR = \"chroma_db_nomic\""
   ]
  },
  {
   "cell_type": "code",
   "execution_count": 3,
   "id": "bf5ed50f",
   "metadata": {},
   "outputs": [
    {
     "name": "stderr",
     "output_type": "stream",
     "text": [
      "<All keys matched successfully>\n"
     ]
    }
   ],
   "source": [
    "nomic_model = SentenceTransformer(\"nomic-ai/nomic-embed-text-v1.5\", trust_remote_code=True)"
   ]
  },
  {
   "cell_type": "code",
   "execution_count": 4,
   "id": "e7666493",
   "metadata": {},
   "outputs": [],
   "source": [
    "class NomicEmbeddings:\n",
    "    def __init__(self, model):\n",
    "        self.model = model\n",
    "\n",
    "    def embed_documents(self, texts):\n",
    "        return self.model.encode(texts).tolist()\n",
    "\n",
    "    def embed_query(self, text):\n",
    "        return self.model.encode([text])[0].tolist()\n",
    "\n",
    "embedding_model = NomicEmbeddings(nomic_model)"
   ]
  },
  {
   "cell_type": "code",
   "execution_count": 5,
   "id": "f9f5eec0",
   "metadata": {},
   "outputs": [
    {
     "name": "stdout",
     "output_type": "stream",
     "text": [
      "📂 Loading existing Chroma DB...\n"
     ]
    },
    {
     "name": "stderr",
     "output_type": "stream",
     "text": [
      "C:\\Users\\Mohammad Kher\\AppData\\Local\\Temp\\ipykernel_8524\\2780254508.py:3: LangChainDeprecationWarning: The class `Chroma` was deprecated in LangChain 0.2.9 and will be removed in 0.4. An updated version of the class exists in the :class:`~langchain-chroma package and should be used instead. To use it run `pip install -U :class:`~langchain-chroma` and import as `from :class:`~langchain_chroma import Chroma``.\n",
      "  db = Chroma(\n"
     ]
    }
   ],
   "source": [
    "if os.path.exists(DB_DIR):\n",
    "    print(\"📂 Loading existing Chroma DB...\")\n",
    "    db = Chroma(\n",
    "        persist_directory=DB_DIR,\n",
    "        embedding_function=embedding_model\n",
    "    )\n",
    "else:\n",
    "    print(\"⚙️ Building new Chroma DB...\")\n",
    "    documents = []\n",
    "    for file in os.listdir(DATA_DIR):\n",
    "        if file.endswith(\".pdf\"):\n",
    "            loader = PyPDFLoader(os.path.join(DATA_DIR, file))\n",
    "            docs = loader.load()\n",
    "            for d in docs:\n",
    "                text = d.page_content.strip()\n",
    "                # تجاهل الصفحات الفارغة أو القصيرة جدًا أو مجرد أرقام\n",
    "                if len(text) > 30 and not text.replace(\"\\n\",\"\").isdigit():\n",
    "                    documents.append(d)\n",
    "\n",
    "    print(f\"📑 Pages with real content: {len(documents)}\")\n",
    "\n",
    "    text_splitter = RecursiveCharacterTextSplitter(chunk_size=500, chunk_overlap=50)\n",
    "    chunks = text_splitter.split_documents(documents)\n",
    "    print(f\"🔹 Number of chunks: {len(chunks)}\")\n",
    "\n",
    "    db = Chroma.from_documents(\n",
    "        documents=chunks,\n",
    "        embedding=embedding_model,\n",
    "        persist_directory=DB_DIR\n",
    "    )\n",
    "    db.persist()\n",
    "    print(\"✅ New Chroma DB created\")"
   ]
  },
  {
   "cell_type": "code",
   "execution_count": 7,
   "id": "e2fc8af3",
   "metadata": {},
   "outputs": [
    {
     "name": "stdout",
     "output_type": "stream",
     "text": [
      "\n",
      "🔍 نتائج البحث:\n",
      "1- عقوبة (...) إلى الأشؽال الشاقة المإبدة أما عقوبة (...) فَ إلى الأشؽال الشاقة لمدة \n",
      "عشرٌن سنة. \n",
      "أسباب المخاصمة: \n",
      "ٔـ مخالفة المحكمة مصدرة القرار لاجتهادات الهٌبة العامة التً أرست مبدأ عدم \n",
      "جواز منح الأسباب المخففة التقدٌرٌة فً ضوء بشاعة وفظاعة الجرم. \n",
      "ٕـ تناقض القرار المخاصم فً حٌثٌاته ومخالفته وتحرٌفه للوقابع. \n",
      "ٖـ إهمال المحكمة بحث آثار ومفاعٌل عدم وجود إسقاط حق شخصً. \n",
      "ٗـ لا رقابة لمحكمة النقض على المحكمة بموضوع حجب الأسباب المخففة...\n",
      "\n",
      "2- عرضا  وافٌا  وعللت لقرارها تعلٌلا  سابؽا  ومعقولا  فجاء قرارها سلٌما  ومحمولا  على \n",
      "أسبابه وفً منؤى عن الخطؤ المهنً الجسٌم ولا تنال منه أسباب المخاصمة. \n",
      " \n",
      "الفهرس...\n",
      "\n",
      "3- بالرقابة القانونٌة على القرار المطعون فٌه وما تضمنه من تعلٌل وتسبٌب على \n",
      "اعتبار أن أسباب الطعن إنما تم احتواإها فً التعلٌل الذي ساقته محكمة الموضوع  \n",
      "الفهرس...\n",
      "\n"
     ]
    }
   ],
   "source": [
    "query = \"ما هي عقوبة السرقة في القانون السوري؟\"\n",
    "results = db.similarity_search(query, k=3)\n",
    "\n",
    "print(\"\\n🔍 نتائج البحث:\")  \n",
    "for i, r in enumerate(results, 1):\n",
    "    print(f\"{i}- {r.page_content[:500]}...\\n\")"
   ]
  }
 ],
 "metadata": {
  "kernelspec": {
   "display_name": "venv",
   "language": "python",
   "name": "python3"
  },
  "language_info": {
   "codemirror_mode": {
    "name": "ipython",
    "version": 3
   },
   "file_extension": ".py",
   "mimetype": "text/x-python",
   "name": "python",
   "nbconvert_exporter": "python",
   "pygments_lexer": "ipython3",
   "version": "3.12.5"
  }
 },
 "nbformat": 4,
 "nbformat_minor": 5
}
